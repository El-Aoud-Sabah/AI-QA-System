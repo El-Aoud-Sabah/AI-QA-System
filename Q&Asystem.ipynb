{
 "cells": [
  {
   "cell_type": "markdown",
   "id": "70824d07",
   "metadata": {},
   "source": [
    "# 1️⃣ Ingest documents PDFs."
   ]
  },
  {
   "cell_type": "code",
   "execution_count": 1,
   "id": "df7501fe",
   "metadata": {},
   "outputs": [],
   "source": [
    "from langchain_community.document_loaders import PyPDFLoader\n",
    "import copy\n",
    "from langchain.text_splitter import CharacterTextSplitter\n",
    "from sentence_transformers import SentenceTransformer\n",
    "from langchain.embeddings.base import Embeddings\n",
    "from typing import List\n",
    "from langchain_community.vectorstores import Chroma\n",
    "from langchain.schema import Document\n",
    "from transformers import AutoModelForCausalLM, AutoTokenizer\n",
    "import requests\n",
    "import json\n",
    "from dotenv import load_dotenv\n",
    "import os"
   ]
  },
  {
   "cell_type": "code",
   "execution_count": 2,
   "id": "1437bb43",
   "metadata": {},
   "outputs": [],
   "source": [
    "#récupérer l'api key\n",
    "load_dotenv(\".env.txt\")\n",
    "api_key = os.getenv(\"API_KEY\")"
   ]
  },
  {
   "cell_type": "code",
   "execution_count": 3,
   "id": "4c0adec3",
   "metadata": {},
   "outputs": [],
   "source": [
    "def loderDocument(Document):\n",
    "    loader_pdf = PyPDFLoader(Document)\n",
    "    pages_pdf = loader_pdf.load()\n",
    "    pages_pdf_cut = copy.deepcopy(pages_pdf)\n",
    "    text = \"\\n\".join([doc.page_content for doc in pages_pdf_cut])\n",
    "    return text"
   ]
  },
  {
   "cell_type": "markdown",
   "id": "a3d6be02",
   "metadata": {},
   "source": [
    "# 2️⃣ Embed the documents using SentenceTransformer."
   ]
  },
  {
   "cell_type": "code",
   "execution_count": 4,
   "id": "0002e38f",
   "metadata": {},
   "outputs": [],
   "source": [
    "def divise_chunk(text):\n",
    "    text_splitter = CharacterTextSplitter(separator = \".\",chunk_size=530, chunk_overlap=50)\n",
    "    texts = text_splitter.split_text(text)\n",
    "    return texts"
   ]
  },
  {
   "cell_type": "code",
   "execution_count": 5,
   "id": "fde3897a",
   "metadata": {},
   "outputs": [],
   "source": [
    "# ChromaDB n'accepte pas directement SentenceTransformer comme modèle d'embedding.\n",
    "# Cette classe sert d'adaptateur pour utiliser SentenceTransformer avec ChromaDB.\n",
    "# Elle transforme les documents  en vecteurs numériques exploitables par ChromaDB.\n",
    "\n",
    "class CustomEmbeddings(Embeddings):\n",
    "    def __init__(self, model_name: str):\n",
    "        self.model = SentenceTransformer(model_name)\n",
    "\n",
    "    def embed_documents(self, documents: List[str]) -> List[List[float]]:\n",
    "        return [self.model.encode(d).tolist() for d in documents]\n",
    "\n",
    "    def embed_query(self, query: str) -> List[float]:\n",
    "        return self.model.encode([query])[0].tolist()"
   ]
  },
  {
   "cell_type": "markdown",
   "id": "6962a472",
   "metadata": {},
   "source": [
    "# 3️⃣ Store embeddings in a vector database  ChromaDB"
   ]
  },
  {
   "cell_type": "code",
   "execution_count": 6,
   "id": "a071dd7f",
   "metadata": {},
   "outputs": [],
   "source": [
    "def creeVectorstore(texts,embedding_model):\n",
    "    # convertir  chunks à des petits documents pour devient  acceptable par chromdb\n",
    "    documents = [Document(page_content=text) for text in texts]\n",
    "    vectorstore  = Chroma.from_documents(\n",
    "    documents=documents, \n",
    "    embedding=embedding_model,  \n",
    "    persist_directory=\"./store_embeding\")\n",
    "    return vectorstore\n",
    "\n",
    "    "
   ]
  },
  {
   "cell_type": "markdown",
   "id": "fd06bf4b",
   "metadata": {},
   "source": [
    "# 4️⃣ Retrieve relevant information and generate an AI-powered response."
   ]
  },
  {
   "cell_type": "code",
   "execution_count": 7,
   "id": "08d3103d",
   "metadata": {},
   "outputs": [],
   "source": [
    "# det  chunks utiliser pour repondre a la question\n",
    "def retrieve_documents(query, vectorstore):\n",
    "    return vectorstore.similarity_search(query, 5)"
   ]
  },
  {
   "cell_type": "code",
   "execution_count": 8,
   "id": "e9f1b72c",
   "metadata": {},
   "outputs": [],
   "source": [
    "def query_deepseek(prompt):\n",
    "    api_url = \"https://api.together.xyz/v1/chat/completions\"\n",
    "    \n",
    "    headers = {\n",
    "        \"Authorization\": f\"Bearer {api_key}\",\n",
    "        \"Content-Type\": \"application/json\"\n",
    "    }\n",
    "    \n",
    "    data = {\n",
    "        \"model\": \"deepseek-ai/DeepSeek-R1-Distill-Llama-70B-free\",\n",
    "        \"messages\": [{\"role\": \"user\", \"content\": prompt}],\n",
    "        \"temperature\": 0.3,\n",
    "        \"max_tokens\": 500\n",
    "    }\n",
    "    response = requests.post(api_url, headers=headers, json=data)\n",
    "    if response.status_code == 200:\n",
    "        return response.json()[\"choices\"][0][\"message\"][\"content\"]\n",
    "    else:\n",
    "        return f\"Erreur: {response.status_code} - {response.text}\""
   ]
  },
  {
   "cell_type": "code",
   "execution_count": 9,
   "id": "61a24060",
   "metadata": {},
   "outputs": [],
   "source": [
    "def generate_answer(user_query,vectorestore):\n",
    "    retrieved_docs = retrieve_documents(user_query,vectorestore)\n",
    "    context = \"\\n\".join([doc.page_content for doc in retrieved_docs])\n",
    "    prompt = f\"donner la reponse en 200 mots au max ,Voici quelques informations de contexte :\\n{context}\\n\\nQuestion : {user_query}\\nRéponds en utilisant ces informations.\"\n",
    "    return query_deepseek(prompt)"
   ]
  },
  {
   "cell_type": "code",
   "execution_count": 10,
   "id": "85eaf052",
   "metadata": {},
   "outputs": [],
   "source": [
    "def agent(document):\n",
    "    text=loderDocument(document)\n",
    "    texts=divise_chunk(text)\n",
    "    embedding_model = CustomEmbeddings(model_name=\"all-MiniLM-L6-v2\")\n",
    "    vectorestore=creeVectorstore(texts,embedding_model)\n",
    "    return vectorestore\n"
   ]
  },
  {
   "cell_type": "code",
   "execution_count": 11,
   "id": "4ca54bbe",
   "metadata": {},
   "outputs": [],
   "source": [
    "def main():\n",
    "    question='changer'\n",
    "    while(question=='changer'):\n",
    "        question=''\n",
    "        path = input(\"Veuillez entrer le chemin du fichier .pdf: \")\n",
    "        vectorestore=agent(path)\n",
    "        while(question!='changer'):\n",
    "            question= input(\"Tapez 'changer' pour changer le fichier sinon poser votre  question \")\n",
    "            if(question!='changer'):\n",
    "                answer=generate_answer(question,vectorestore)\n",
    "                print(answer)\n",
    "                        "
   ]
  },
  {
   "cell_type": "code",
   "execution_count": 13,
   "id": "ffb2ee2b",
   "metadata": {},
   "outputs": [
    {
     "name": "stdout",
     "output_type": "stream",
     "text": [
      "Veuillez entrer le chemin du fichier .pdf: 3-Naissance_IA.pdf\n",
      "Tapez 'changer' pour changer le fichier sinon poser votre  question changer\n",
      "Veuillez entrer le chemin du fichier .pdf: 3-Naissance_IA.pdf\n"
     ]
    },
    {
     "ename": "KeyboardInterrupt",
     "evalue": "Interrupted by user",
     "output_type": "error",
     "traceback": [
      "\u001b[1;31m---------------------------------------------------------------------------\u001b[0m",
      "\u001b[1;31mKeyboardInterrupt\u001b[0m                         Traceback (most recent call last)",
      "Cell \u001b[1;32mIn[13], line 2\u001b[0m\n\u001b[0;32m      1\u001b[0m \u001b[38;5;28;01mif\u001b[39;00m \u001b[38;5;18m__name__\u001b[39m \u001b[38;5;241m==\u001b[39m \u001b[38;5;124m\"\u001b[39m\u001b[38;5;124m__main__\u001b[39m\u001b[38;5;124m\"\u001b[39m:\n\u001b[1;32m----> 2\u001b[0m     \u001b[43mmain\u001b[49m\u001b[43m(\u001b[49m\u001b[43m)\u001b[49m\n",
      "Cell \u001b[1;32mIn[11], line 8\u001b[0m, in \u001b[0;36mmain\u001b[1;34m()\u001b[0m\n\u001b[0;32m      6\u001b[0m vectorestore\u001b[38;5;241m=\u001b[39magent(path)\n\u001b[0;32m      7\u001b[0m \u001b[38;5;28;01mwhile\u001b[39;00m(question\u001b[38;5;241m!=\u001b[39m\u001b[38;5;124m'\u001b[39m\u001b[38;5;124mchanger\u001b[39m\u001b[38;5;124m'\u001b[39m):\n\u001b[1;32m----> 8\u001b[0m     question\u001b[38;5;241m=\u001b[39m \u001b[38;5;28;43minput\u001b[39;49m\u001b[43m(\u001b[49m\u001b[38;5;124;43m\"\u001b[39;49m\u001b[38;5;124;43mTapez \u001b[39;49m\u001b[38;5;124;43m'\u001b[39;49m\u001b[38;5;124;43mchanger\u001b[39;49m\u001b[38;5;124;43m'\u001b[39;49m\u001b[38;5;124;43m pour changer le fichier sinon poser votre  question \u001b[39;49m\u001b[38;5;124;43m\"\u001b[39;49m\u001b[43m)\u001b[49m\n\u001b[0;32m      9\u001b[0m     \u001b[38;5;28;01mif\u001b[39;00m(question\u001b[38;5;241m!=\u001b[39m\u001b[38;5;124m'\u001b[39m\u001b[38;5;124mchanger\u001b[39m\u001b[38;5;124m'\u001b[39m):\n\u001b[0;32m     10\u001b[0m         answer\u001b[38;5;241m=\u001b[39mgenerate_answer(question,vectorestore)\n",
      "File \u001b[1;32m~\\.conda\\envs\\langchain_env\\lib\\site-packages\\ipykernel\\kernelbase.py:1282\u001b[0m, in \u001b[0;36mKernel.raw_input\u001b[1;34m(self, prompt)\u001b[0m\n\u001b[0;32m   1280\u001b[0m     msg \u001b[38;5;241m=\u001b[39m \u001b[38;5;124m\"\u001b[39m\u001b[38;5;124mraw_input was called, but this frontend does not support input requests.\u001b[39m\u001b[38;5;124m\"\u001b[39m\n\u001b[0;32m   1281\u001b[0m     \u001b[38;5;28;01mraise\u001b[39;00m StdinNotImplementedError(msg)\n\u001b[1;32m-> 1282\u001b[0m \u001b[38;5;28;01mreturn\u001b[39;00m \u001b[38;5;28;43mself\u001b[39;49m\u001b[38;5;241;43m.\u001b[39;49m\u001b[43m_input_request\u001b[49m\u001b[43m(\u001b[49m\n\u001b[0;32m   1283\u001b[0m \u001b[43m    \u001b[49m\u001b[38;5;28;43mstr\u001b[39;49m\u001b[43m(\u001b[49m\u001b[43mprompt\u001b[49m\u001b[43m)\u001b[49m\u001b[43m,\u001b[49m\n\u001b[0;32m   1284\u001b[0m \u001b[43m    \u001b[49m\u001b[38;5;28;43mself\u001b[39;49m\u001b[38;5;241;43m.\u001b[39;49m\u001b[43m_parent_ident\u001b[49m\u001b[43m[\u001b[49m\u001b[38;5;124;43m\"\u001b[39;49m\u001b[38;5;124;43mshell\u001b[39;49m\u001b[38;5;124;43m\"\u001b[39;49m\u001b[43m]\u001b[49m\u001b[43m,\u001b[49m\n\u001b[0;32m   1285\u001b[0m \u001b[43m    \u001b[49m\u001b[38;5;28;43mself\u001b[39;49m\u001b[38;5;241;43m.\u001b[39;49m\u001b[43mget_parent\u001b[49m\u001b[43m(\u001b[49m\u001b[38;5;124;43m\"\u001b[39;49m\u001b[38;5;124;43mshell\u001b[39;49m\u001b[38;5;124;43m\"\u001b[39;49m\u001b[43m)\u001b[49m\u001b[43m,\u001b[49m\n\u001b[0;32m   1286\u001b[0m \u001b[43m    \u001b[49m\u001b[43mpassword\u001b[49m\u001b[38;5;241;43m=\u001b[39;49m\u001b[38;5;28;43;01mFalse\u001b[39;49;00m\u001b[43m,\u001b[49m\n\u001b[0;32m   1287\u001b[0m \u001b[43m\u001b[49m\u001b[43m)\u001b[49m\n",
      "File \u001b[1;32m~\\.conda\\envs\\langchain_env\\lib\\site-packages\\ipykernel\\kernelbase.py:1325\u001b[0m, in \u001b[0;36mKernel._input_request\u001b[1;34m(self, prompt, ident, parent, password)\u001b[0m\n\u001b[0;32m   1322\u001b[0m \u001b[38;5;28;01mexcept\u001b[39;00m \u001b[38;5;167;01mKeyboardInterrupt\u001b[39;00m:\n\u001b[0;32m   1323\u001b[0m     \u001b[38;5;66;03m# re-raise KeyboardInterrupt, to truncate traceback\u001b[39;00m\n\u001b[0;32m   1324\u001b[0m     msg \u001b[38;5;241m=\u001b[39m \u001b[38;5;124m\"\u001b[39m\u001b[38;5;124mInterrupted by user\u001b[39m\u001b[38;5;124m\"\u001b[39m\n\u001b[1;32m-> 1325\u001b[0m     \u001b[38;5;28;01mraise\u001b[39;00m \u001b[38;5;167;01mKeyboardInterrupt\u001b[39;00m(msg) \u001b[38;5;28;01mfrom\u001b[39;00m \u001b[38;5;28;01mNone\u001b[39;00m\n\u001b[0;32m   1326\u001b[0m \u001b[38;5;28;01mexcept\u001b[39;00m \u001b[38;5;167;01mException\u001b[39;00m:\n\u001b[0;32m   1327\u001b[0m     \u001b[38;5;28mself\u001b[39m\u001b[38;5;241m.\u001b[39mlog\u001b[38;5;241m.\u001b[39mwarning(\u001b[38;5;124m\"\u001b[39m\u001b[38;5;124mInvalid Message:\u001b[39m\u001b[38;5;124m\"\u001b[39m, exc_info\u001b[38;5;241m=\u001b[39m\u001b[38;5;28;01mTrue\u001b[39;00m)\n",
      "\u001b[1;31mKeyboardInterrupt\u001b[0m: Interrupted by user"
     ]
    }
   ],
   "source": [
    "if __name__ == \"__main__\":\n",
    "    main()"
   ]
  },
  {
   "cell_type": "code",
   "execution_count": null,
   "id": "bfc92e71",
   "metadata": {},
   "outputs": [],
   "source": []
  }
 ],
 "metadata": {
  "kernelspec": {
   "display_name": "langchain_env",
   "language": "python",
   "name": "langchain_env"
  },
  "language_info": {
   "codemirror_mode": {
    "name": "ipython",
    "version": 3
   },
   "file_extension": ".py",
   "mimetype": "text/x-python",
   "name": "python",
   "nbconvert_exporter": "python",
   "pygments_lexer": "ipython3",
   "version": "3.10.10"
  }
 },
 "nbformat": 4,
 "nbformat_minor": 5
}
